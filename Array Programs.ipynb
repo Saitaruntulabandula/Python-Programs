{
 "cells": [
  {
   "cell_type": "markdown",
   "id": "5ea3f828",
   "metadata": {},
   "source": [
    "# Find Smallest element in an array using Python"
   ]
  },
  {
   "cell_type": "code",
   "execution_count": 92,
   "id": "528c75db",
   "metadata": {},
   "outputs": [
    {
     "name": "stdout",
     "output_type": "stream",
     "text": [
      "Enter the array size:6\n",
      "Enter the value:2\n",
      "Enter the value:0\n",
      "Enter the value:6\n",
      "Enter the value:7\n",
      "Enter the value:9\n",
      "Enter the value:3\n",
      "Smallest element 0\n"
     ]
    }
   ],
   "source": [
    "import array as arr\n",
    "size=int(input('Enter the array size:'))\n",
    "a=arr.array('i',[])           #i means signed int (2bytes)\n",
    "for i in range(size):\n",
    "    element=int(input('Enter the value:'))\n",
    "    a.append(element)\n",
    "print('Smallest element:',min(a))"
   ]
  },
  {
   "cell_type": "markdown",
   "id": "1461925d",
   "metadata": {},
   "source": [
    "# Find Largest element in an array using Python"
   ]
  },
  {
   "cell_type": "code",
   "execution_count": 93,
   "id": "e120d9d6",
   "metadata": {},
   "outputs": [
    {
     "name": "stdout",
     "output_type": "stream",
     "text": [
      "Enter the array size:9\n",
      "Enter the value:3\n",
      "Enter the value:17\n",
      "Enter the value:91\n",
      "Enter the value:14\n",
      "Enter the value:36\n",
      "Enter the value:7\n",
      "Enter the value:6\n",
      "Enter the value:2\n",
      "Enter the value:67\n",
      "Largest element 91\n"
     ]
    }
   ],
   "source": [
    "import array as arr\n",
    "size=int(input('Enter the array size:'))\n",
    "a=arr.array('i',[])\n",
    "for i in range(size):\n",
    "    element=int(input('Enter the value:'))\n",
    "    a.append(element)\n",
    "print('Largest element:',max(a))"
   ]
  },
  {
   "cell_type": "markdown",
   "id": "4abe66fa",
   "metadata": {},
   "source": [
    "# Python Program to sort the elements of an array"
   ]
  },
  {
   "cell_type": "code",
   "execution_count": 96,
   "id": "09508c79",
   "metadata": {},
   "outputs": [
    {
     "name": "stdout",
     "output_type": "stream",
     "text": [
      "Enter the array size:6\n",
      "Enter the value:0\n",
      "Enter the value:6\n",
      "Enter the value:7\n",
      "Enter the value:12\n",
      "Enter the value:11\n",
      "Enter the value:6\n",
      "Our Array: array('i', [0, 6, 7, 12, 11, 6])\n",
      "Sorted Array: array('i', [0, 6, 6, 7, 11, 12])\n"
     ]
    }
   ],
   "source": [
    "import array as arr\n",
    "n=int(input('Enter the array size:'))\n",
    "a=arr.array('i',[])\n",
    "for i in range(n):\n",
    "    a.append(int(input('Enter the value:')))\n",
    "print('Our Array:',a)\n",
    "temp=0\n",
    "for i in range(0, len(a)):  \n",
    "    for j in range(i+1, len(a)):\n",
    "        if(a[i] > a[j]):\n",
    "            temp = a[i];  \n",
    "            a[i] = a[j];  \n",
    "            a[j] = temp; \n",
    "print('Sorted Array:',a)"
   ]
  },
  {
   "cell_type": "markdown",
   "id": "c2251fd2",
   "metadata": {},
   "source": [
    "# Find Second Smallest Element in an Array using Python"
   ]
  },
  {
   "cell_type": "code",
   "execution_count": 97,
   "id": "fef45720",
   "metadata": {},
   "outputs": [
    {
     "name": "stdout",
     "output_type": "stream",
     "text": [
      "Enter the array size:6\n",
      "Enter the value:32\n",
      "Enter the value:78\n",
      "Enter the value:16\n",
      "Enter the value:0\n",
      "Enter the value:96\n",
      "Enter the value:21\n",
      "Array before sorting: array('i', [32, 78, 16, 0, 96, 21])\n",
      "Array after sorting: array('i', [0, 16, 21, 32, 78, 96])\n",
      "Second smallest element in an Array is: 16\n"
     ]
    }
   ],
   "source": [
    "import array as arr\n",
    "n=int(input('Enter the array size:'))\n",
    "a=arr.array('i',[])\n",
    "for i in range(n):\n",
    "    a.append(int(input('Enter the value:')))\n",
    "    \n",
    "print('Array before sorting:',a)    \n",
    "temp=0\n",
    "for i in range(0, len(a)):  \n",
    "    for j in range(i+1, len(a)):\n",
    "        if(a[i] > a[j]):\n",
    "            temp = a[i];  \n",
    "            a[i] = a[j];  \n",
    "            a[j] = temp;  \n",
    "print('Array after sorting:',a)\n",
    "print('Second smallest element in an Array is:',a[1])"
   ]
  },
  {
   "cell_type": "markdown",
   "id": "d24511fa",
   "metadata": {},
   "source": [
    "# Find Second Largest Element in an Array using Python"
   ]
  },
  {
   "cell_type": "code",
   "execution_count": 98,
   "id": "5130360f",
   "metadata": {},
   "outputs": [
    {
     "name": "stdout",
     "output_type": "stream",
     "text": [
      "Enter the array size:8\n",
      "Enter the value:12\n",
      "Enter the value:36\n",
      "Enter the value:10\n",
      "Enter the value:24\n",
      "Enter the value:57\n",
      "Enter the value:166\n",
      "Enter the value:43\n",
      "Enter the value:22\n",
      "Array before sorting: array('i', [12, 36, 10, 24, 57, 166, 43, 22])\n",
      "Array after sorting: array('i', [10, 12, 22, 24, 36, 43, 57, 166])\n",
      "Second largest element in an Array is: 57\n"
     ]
    }
   ],
   "source": [
    "import array as arr\n",
    "n=int(input('Enter the array size:'))\n",
    "a=arr.array('i',[])\n",
    "for i in range(n):\n",
    "    a.append(int(input('Enter the value:')))\n",
    "    \n",
    "print('Array before sorting:',a)    \n",
    "temp=0\n",
    "for i in range(0, len(a)):  \n",
    "    for j in range(i+1, len(a)):\n",
    "        if(a[i] > a[j]):\n",
    "            temp = a[i];  \n",
    "            a[i] = a[j];  \n",
    "            a[j] = temp;  \n",
    "print('Array after sorting:',a)\n",
    "print('Second largest element in an Array is:',a[len(a)-2])"
   ]
  },
  {
   "cell_type": "markdown",
   "id": "909d717d",
   "metadata": {},
   "source": [
    "# Code to Reverse an Array in Python"
   ]
  },
  {
   "cell_type": "code",
   "execution_count": 99,
   "id": "be7ac262",
   "metadata": {},
   "outputs": [
    {
     "name": "stdout",
     "output_type": "stream",
     "text": [
      "Enter the array size:4\n",
      "Enter the value:1\n",
      "Enter the value:6\n",
      "Enter the value:0\n",
      "Enter the value:2\n",
      "Our Array array('i', [1, 6, 0, 2])\n",
      "Reversed Array:\n",
      "array('i', [2, 0, 6, 1])\n"
     ]
    }
   ],
   "source": [
    "import array as arr\n",
    "n=int(input('Enter the array size:'))\n",
    "a=arr.array('i',[])\n",
    "for i in range(n):\n",
    "    a.append(int(input('Enter the value:')))\n",
    "print('Our Array',a)\n",
    "print('Reversed Array:',a[::-1],sep=\"\\n\")"
   ]
  },
  {
   "cell_type": "markdown",
   "id": "e0e88d16",
   "metadata": {},
   "source": [
    "# Calculate the sum of elements in an Array :"
   ]
  },
  {
   "cell_type": "code",
   "execution_count": 100,
   "id": "195fc0a2",
   "metadata": {},
   "outputs": [
    {
     "name": "stdout",
     "output_type": "stream",
     "text": [
      "Enter the array size:6\n",
      "Enter the value:12\n",
      "Enter the value:478\n",
      "Enter the value:15\n",
      "Enter the value:36\n",
      "Enter the value:10\n",
      "Enter the value:74\n",
      "Our Array array('i', [12, 478, 15, 36, 10, 74])\n",
      "625\n"
     ]
    }
   ],
   "source": [
    "import array as arr\n",
    "n=int(input('Enter the array size:'))\n",
    "a=arr.array('i',[])\n",
    "for i in range(n):\n",
    "    a.append(int(input('Enter the value:')))\n",
    "print('Our Array',a)\n",
    "sum=0\n",
    "for i in range(n):\n",
    "    sum=sum+a[i]\n",
    "print(sum)"
   ]
  },
  {
   "cell_type": "markdown",
   "id": "76ca9f46",
   "metadata": {},
   "source": [
    "# Program to Sort first half in ascending order and second half in descending order in an array."
   ]
  },
  {
   "cell_type": "code",
   "execution_count": 101,
   "id": "efb3bbe5",
   "metadata": {},
   "outputs": [
    {
     "name": "stdout",
     "output_type": "stream",
     "text": [
      "Enter the array size:4\n",
      "Enter the value:1\n",
      "Enter the value:0\n",
      "Enter the value:6\n",
      "Enter the value:5\n",
      "Our Array: array('i', [1, 0, 6, 5])\n",
      "Result array('i', [0, 1, 6, 5])\n"
     ]
    }
   ],
   "source": [
    "import array as arr\n",
    "n=int(input('Enter the array size:'))\n",
    "a=arr.array('i',[])\n",
    "for i in range(n):\n",
    "    a.append(int(input('Enter the value:')))\n",
    "\n",
    "\n",
    "x=arr.array('i',[])\n",
    "for i in range(n//2):\n",
    "    x.append(a[i])\n",
    "    \n",
    "y=arr.array('i',[])\n",
    "for i in range(n//2,n):\n",
    "    y.append(a[i])\n",
    "\n",
    "for i in range(0, len(x)):  \n",
    "    for j in range(i+1, len(x)):\n",
    "        if(x[i] > x[j]):\n",
    "            temp = x[i];  \n",
    "            x[i] = x[j];  \n",
    "            x[j] = temp;      \n",
    "\n",
    "print('Our Array:',a)   \n",
    "print('Result',(x+y))"
   ]
  },
  {
   "cell_type": "markdown",
   "id": "ba4a61e1",
   "metadata": {},
   "source": [
    "# Finding the frequency of elements in an array using python"
   ]
  },
  {
   "cell_type": "code",
   "execution_count": 105,
   "id": "13f4e22f",
   "metadata": {},
   "outputs": [
    {
     "name": "stdout",
     "output_type": "stream",
     "text": [
      "Enter the array size:4\n",
      "Enter the value:1\n",
      "Enter the value:1\n",
      "Enter the value:1\n",
      "Enter the value:3\n",
      "\n",
      " 1 occurs 3 time(s)\n",
      "\n",
      " 3 occurs 1 time(s)\n"
     ]
    }
   ],
   "source": [
    "import array as arr\n",
    "n=int(input('Enter the array size:'))\n",
    "a=arr.array('i',[])\n",
    "for i in range(n):\n",
    "    a.append(int(input('Enter the value:')))\n",
    "\n",
    "x=list(dict.fromkeys(a))\n",
    "\n",
    "for i in x:\n",
    "\n",
    "    print(\"\\n {} occurs {} time(s)\".format(i,a.count(i)))"
   ]
  },
  {
   "cell_type": "code",
   "execution_count": null,
   "id": "48fa5f4d",
   "metadata": {},
   "outputs": [],
   "source": []
  }
 ],
 "metadata": {
  "kernelspec": {
   "display_name": "Python 3 (ipykernel)",
   "language": "python",
   "name": "python3"
  },
  "language_info": {
   "codemirror_mode": {
    "name": "ipython",
    "version": 3
   },
   "file_extension": ".py",
   "mimetype": "text/x-python",
   "name": "python",
   "nbconvert_exporter": "python",
   "pygments_lexer": "ipython3",
   "version": "3.9.7"
  }
 },
 "nbformat": 4,
 "nbformat_minor": 5
}
