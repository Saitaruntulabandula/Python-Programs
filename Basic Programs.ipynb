{
 "cells": [
  {
   "cell_type": "markdown",
   "id": "ccbd9ea1",
   "metadata": {},
   "source": [
    "# Python Program to check if a Number Is Positive Or Negative"
   ]
  },
  {
   "cell_type": "code",
   "execution_count": 1,
   "id": "1867ac3c",
   "metadata": {},
   "outputs": [
    {
     "name": "stdout",
     "output_type": "stream",
     "text": [
      "Enter the value:7\n",
      "Given value is Positive.\n"
     ]
    }
   ],
   "source": [
    "n=int(input('Enter the value:'))\n",
    "if n==0:\n",
    "    print('Given value is Zero.')\n",
    "elif n>0:\n",
    "    print('Given value is Positive.')\n",
    "else:\n",
    "    print('Given Value is Negative')"
   ]
  },
  {
   "cell_type": "markdown",
   "id": "6c314325",
   "metadata": {},
   "source": [
    "# Python Program to Check Whether a Number is Even or Odd"
   ]
  },
  {
   "cell_type": "code",
   "execution_count": 32,
   "id": "ce7e1e40",
   "metadata": {},
   "outputs": [
    {
     "name": "stdout",
     "output_type": "stream",
     "text": [
      "Enter the value:5\n",
      "Given number is Odd.\n"
     ]
    }
   ],
   "source": [
    "n=int(input('Enter the value:'))                     #    n=6                    n=7\n",
    "if n%2==0:                                           #   2)6(3                  2)7(3\n",
    "    print('Given number is Even.')                   #     6                      6\n",
    "else:                                                #     -                      -\n",
    "    print('Given number is Odd.')                    #     0 (Even)               1 (Odd)"
   ]
  },
  {
   "cell_type": "markdown",
   "id": "8f9c1c55",
   "metadata": {},
   "source": [
    "# Python Program to Find the Sum of First N Natural Numbers"
   ]
  },
  {
   "cell_type": "code",
   "execution_count": 27,
   "id": "2c103f66",
   "metadata": {},
   "outputs": [
    {
     "name": "stdout",
     "output_type": "stream",
     "text": [
      "Enter the value:76\n",
      "Sum of the given natural number is 2926.0\n"
     ]
    }
   ],
   "source": [
    "n=int(input('Enter the value:'))                     #n=4 that means 1+2+3+4\n",
    "Sum=(n*(n+1))/2                                      #(4*(4+1))/2  #(4*5)/2  #(20/2)=10\n",
    "print('Sum of the given natural number is {}'.format(Sum))"
   ]
  },
  {
   "cell_type": "markdown",
   "id": "42c2e381",
   "metadata": {},
   "source": [
    "# Python program to print sum of N natural numbers"
   ]
  },
  {
   "cell_type": "code",
   "execution_count": 33,
   "id": "0a3ea91a",
   "metadata": {},
   "outputs": [
    {
     "name": "stdout",
     "output_type": "stream",
     "text": [
      "Enter the value:4\n",
      "Sum is 10\n"
     ]
    }
   ],
   "source": [
    "n=int(input('Enter the value:'))              #n+1=4+1=5   #i=0 #Sum=Sum+i=0+0=0\n",
    "Sum=0                                         #i=1,2,3,4   #i=1 #Sum=Sum+i=0+1=1\n",
    "for i in range(n+1):                                       #i=2 #Sum=Sum+i=1+2=3\n",
    "    Sum=Sum+i                                              #i=3 #Sum=Sum+i=3+3=6\n",
    "print('Sum is',Sum)                                        #i=4 #Sum=Sum+i=6+4=10 "
   ]
  },
  {
   "cell_type": "markdown",
   "id": "719798cb",
   "metadata": {},
   "source": [
    "# Sum of numbers in a given range in Python"
   ]
  },
  {
   "cell_type": "code",
   "execution_count": 3,
   "id": "9bcd123f",
   "metadata": {},
   "outputs": [
    {
     "name": "stdout",
     "output_type": "stream",
     "text": [
      "Enter the lower limit:1\n",
      "Enter the upper limit:5\n",
      "15\n"
     ]
    }
   ],
   "source": [
    "l=int(input('Enter the lower limit:'))        #l=1 #u=5  #i=1,2,3,4,5    #sum=sum+i\n",
    "u=int(input('Enter the upper limit:'))                   #i=1            #sum=0+1=1\n",
    "Sum=0                                                    #i=2            #sum=1+2=3                 \n",
    "for i in range(l,u+1):                                   #i=3            #sum=3+3=6\n",
    "    Sum=Sum+i                                            #i=4            #sum=6+4=10\n",
    "print(Sum)                                               #i=5            #sum=10+5=15 "
   ]
  },
  {
   "cell_type": "markdown",
   "id": "3b95203a",
   "metadata": {},
   "source": [
    "# Python Program to Find Smallest of Two Numbers"
   ]
  },
  {
   "cell_type": "code",
   "execution_count": 6,
   "id": "18830524",
   "metadata": {},
   "outputs": [
    {
     "name": "stdout",
     "output_type": "stream",
     "text": [
      "Enter the value of a:78\n",
      "Enter the value of b:19\n",
      "Value of 19 is Smallest\n"
     ]
    }
   ],
   "source": [
    "a=int(input('Enter the value of a:'))\n",
    "b=int(input('Enter the value of b:'))\n",
    "if a<b:\n",
    "    print('Value of',a,'is Smallest')\n",
    "else:\n",
    "    print('Value of',b,'is Smallest')"
   ]
  },
  {
   "cell_type": "markdown",
   "id": "42b28bd1",
   "metadata": {},
   "source": [
    "# Python Program to Find Greatest of Two Numbers"
   ]
  },
  {
   "cell_type": "code",
   "execution_count": 7,
   "id": "700446bc",
   "metadata": {},
   "outputs": [
    {
     "name": "stdout",
     "output_type": "stream",
     "text": [
      "Enter the value of a:16\n",
      "Enter the value of b:58\n",
      "Value of 58 is Greatest\n"
     ]
    }
   ],
   "source": [
    "a=int(input('Enter the value of a:'))\n",
    "b=int(input('Enter the value of b:'))\n",
    "if a>b:\n",
    "    print('Value of',a,'is Greatest')\n",
    "else:\n",
    "    print('Value of',b,'is Greatest')"
   ]
  },
  {
   "cell_type": "markdown",
   "id": "3069c79e",
   "metadata": {},
   "source": [
    "# Python Program to Find Smallest of Three Numbers"
   ]
  },
  {
   "cell_type": "code",
   "execution_count": 8,
   "id": "090cf1ab",
   "metadata": {},
   "outputs": [
    {
     "name": "stdout",
     "output_type": "stream",
     "text": [
      "Enter the value of a:14\n",
      "Enter the value of b:78\n",
      "Enter the value of c:93\n",
      "Value of 14 is Smallest\n"
     ]
    }
   ],
   "source": [
    "a=int(input('Enter the value of a:'))\n",
    "b=int(input('Enter the value of b:'))\n",
    "c=int(input('Enter the value of c:'))\n",
    "if a<b and a<c:\n",
    "    print('Value of',a,'is Smallest')\n",
    "elif b<c:\n",
    "    print('Value of',b,'is Smallest')\n",
    "else:\n",
    "    print('Value of',c,'is Smallest')"
   ]
  },
  {
   "cell_type": "markdown",
   "id": "03d8242a",
   "metadata": {},
   "source": [
    "# Python Program to Find Largest of Three Numbers"
   ]
  },
  {
   "cell_type": "code",
   "execution_count": 9,
   "id": "bc2c18b7",
   "metadata": {},
   "outputs": [
    {
     "name": "stdout",
     "output_type": "stream",
     "text": [
      "Enter the value of a:16\n",
      "Enter the value of b:93\n",
      "Enter the value of c:48\n",
      "Value of 93 is Largest\n"
     ]
    }
   ],
   "source": [
    "a=int(input('Enter the value of a:'))\n",
    "b=int(input('Enter the value of b:'))\n",
    "c=int(input('Enter the value of c:'))\n",
    "if a>b and a>c:\n",
    "    print('Value of',a,'is Largest')\n",
    "elif b>c:\n",
    "    print('Value of',b,'is Largest')\n",
    "else:\n",
    "    print('Value of',c,'is Largest')"
   ]
  },
  {
   "cell_type": "markdown",
   "id": "7e6618e9",
   "metadata": {},
   "source": [
    "# Python Program to Check Leap Year or Not"
   ]
  },
  {
   "cell_type": "code",
   "execution_count": 5,
   "id": "faf850ae",
   "metadata": {},
   "outputs": [
    {
     "name": "stdout",
     "output_type": "stream",
     "text": [
      "Enter the year:2000\n",
      "Leap Year\n"
     ]
    }
   ],
   "source": [
    "year=int(input('Enter the year:'))                      # 4)2007(501             # 4)2000(500    100)2000(20     400)2000(5        \n",
    "if ((year%4==0 and year%100!=0) or (year%400==0)):      #   2004                 #  2000     and     2000     or     2000\n",
    "    print('Leap Year')                                  #    -                   #   -                -                 -\n",
    "else:                                                   #    3 (Non Leap Year)   #   0                0    (Leap Year)  0\n",
    "    print('Not a Leap year')"
   ]
  },
  {
   "cell_type": "markdown",
   "id": "e006a144",
   "metadata": {},
   "source": [
    "# Program to check if the given number is Prime or Not"
   ]
  },
  {
   "cell_type": "code",
   "execution_count": 1,
   "id": "8dd08b39",
   "metadata": {},
   "outputs": [
    {
     "name": "stdout",
     "output_type": "stream",
     "text": [
      "Enter the value:5\n",
      "Given value is a Prime Number\n"
     ]
    }
   ],
   "source": [
    "n=int(input('Enter the value:'))\n",
    "if n>1:\n",
    "    for i in range(2,n):                                        #n=5,i=2,3,4     n%i=0\n",
    "        if n%i==0:                                                  #i=2         5%2=1             \n",
    "            print('Given value is Not a Prime Number')              #i=3         5%3=2\n",
    "            break                                                   #i=4         5%4=1 so finally 5 is a prime number\n",
    "    else:\n",
    "        print('Given value is a Prime Number')"
   ]
  },
  {
   "cell_type": "markdown",
   "id": "387da51a",
   "metadata": {},
   "source": [
    "# Python Program to Print Prime Numbers In a Given Range"
   ]
  },
  {
   "cell_type": "code",
   "execution_count": 7,
   "id": "9e7df747",
   "metadata": {},
   "outputs": [
    {
     "name": "stdout",
     "output_type": "stream",
     "text": [
      "Enter the starting value:10\n",
      "Enter the ending value:100\n",
      "Prime numbers in range 10 to 100 are:\n",
      "11 13 17 19 23 29 31 37 41 43 47 53 59 61 67 71 73 79 83 89 97 "
     ]
    }
   ],
   "source": [
    "start=int(input('Enter the starting value:'))\n",
    "end=int(input('Enter the ending value:'))\n",
    "print('Prime numbers in range',start,'to',end,'are:')\n",
    "for i in range(start,end+1):\n",
    "        flag=0\n",
    "        for j in range(2,i):\n",
    "                if(i%j==0):\n",
    "                   flag=1\n",
    "                   break\n",
    "        if flag==0:\n",
    "         print(i,end=' ')"
   ]
  },
  {
   "cell_type": "markdown",
   "id": "74d18032",
   "metadata": {},
   "source": [
    "# Python Program to Find Sum Of Digits Of a Number"
   ]
  },
  {
   "cell_type": "code",
   "execution_count": 24,
   "id": "a2619cee",
   "metadata": {},
   "outputs": [
    {
     "name": "stdout",
     "output_type": "stream",
     "text": [
      "Enter the value:194\n",
      "Sum of Digits of a Number: 14\n"
     ]
    }
   ],
   "source": [
    "n=int(input('Enter the value:'))\n",
    "sum=0\n",
    "for digit in str(n):\n",
    "    sum=sum+int(digit)\n",
    "print(\"Sum of Digits of a Number: {}\".format(sum))"
   ]
  },
  {
   "cell_type": "code",
   "execution_count": 25,
   "id": "3510acd1",
   "metadata": {},
   "outputs": [
    {
     "name": "stdout",
     "output_type": "stream",
     "text": [
      "Enter the value:194\n",
      "Sum of the digits of the given number is: 14\n"
     ]
    }
   ],
   "source": [
    "#Iterative Approach\n",
    "n=int(input('Enter the value:'))\n",
    "result=0\n",
    "for i in range(len(str(n))):\n",
    "    digit=n%10\n",
    "    result=result+digit\n",
    "    n=n//10\n",
    "print('Sum of the digits of the given number is:',result)"
   ]
  },
  {
   "cell_type": "markdown",
   "id": "7465a397",
   "metadata": {},
   "source": [
    "# Python Program to find the Reverse of a given number​"
   ]
  },
  {
   "cell_type": "code",
   "execution_count": null,
   "id": "cf83eeef",
   "metadata": {},
   "outputs": [],
   "source": [
    "num=int(input('Enter the value: '))\n",
    "reversed_num = 0\n",
    "\n",
    "while num != 0:\n",
    "    digit = num % 10\n",
    "    reversed_num = reversed_num * 10 + digit\n",
    "    num //= 10\n",
    "\n",
    "print(\"Reversed Number:\",reversed_num)"
   ]
  },
  {
   "cell_type": "markdown",
   "id": "96225239",
   "metadata": {},
   "source": [
    "# Python Program to Find a Number is Palindrome or not"
   ]
  },
  {
   "cell_type": "code",
   "execution_count": 3,
   "id": "bd8fc76d",
   "metadata": {},
   "outputs": [
    {
     "name": "stdout",
     "output_type": "stream",
     "text": [
      "Enter the Number:67676\n",
      "Given number 67676 is Palindrome\n"
     ]
    }
   ],
   "source": [
    "num = int(input(\"Enter the Number:\"))\n",
    "temp = num\n",
    "reverse = 0\n",
    "while num != 0:\n",
    "    remainder = num % 10\n",
    "    reverse = (reverse * 10) + remainder\n",
    "    num = num // 10\n",
    "\n",
    "if temp == reverse:\n",
    "    print(\"Given number {} is Palindrome\".format(temp))\n",
    "else:\n",
    "    print(\"Given number {} is not Palindrome\".format(temp))"
   ]
  },
  {
   "cell_type": "markdown",
   "id": "beffe950",
   "metadata": {},
   "source": [
    "# Python Program to find a Number is Armstrong or not"
   ]
  },
  {
   "cell_type": "code",
   "execution_count": 11,
   "id": "9d1ec435",
   "metadata": {},
   "outputs": [
    {
     "name": "stdout",
     "output_type": "stream",
     "text": [
      "Enter the Number:153\n",
      "153 is an Armstrong number\n"
     ]
    }
   ],
   "source": [
    "num = int(input(\"Enter the Number:\"))\n",
    "\n",
    "# Changed num variable to string, \n",
    "# and calculated the length (number of digits)\n",
    "order = len(str(num))\n",
    "\n",
    "# initialize sum\n",
    "sum = 0\n",
    "\n",
    "# find the sum of the cube of each digit\n",
    "temp = num\n",
    "while temp > 0:\n",
    "   digit = temp % 10\n",
    "   sum =sum + digit ** order\n",
    "   temp =temp//10\n",
    "\n",
    "# display the result\n",
    "if num == sum:\n",
    "   print(num,\"is an Armstrong number\")\n",
    "else:\n",
    "   print(num,\"is not an Armstrong number\")"
   ]
  },
  {
   "cell_type": "markdown",
   "id": "5f49e29d",
   "metadata": {},
   "source": [
    "# Python Program Armstrong Numbers Between Two Intervals"
   ]
  },
  {
   "cell_type": "code",
   "execution_count": null,
   "id": "e02382e3",
   "metadata": {},
   "outputs": [],
   "source": [
    "# lower = int(input('Enter the lower limit:'))\n",
    "upper = int(input('Enter the upper limit:'))\n",
    "\n",
    "\n",
    "for num in range(lower, upper + 1):\n",
    "\n",
    "   # order of number\n",
    "   order = len(str(num))\n",
    "    \n",
    "   # initialize sum\n",
    "   sum = 0\n",
    "\n",
    "   temp = num\n",
    "   while temp > 0:\n",
    "       digit = temp % 10\n",
    "       sum += digit ** order\n",
    "       temp //= 10\n",
    "\n",
    "   if num == sum:\n",
    "       print(num)"
   ]
  },
  {
   "cell_type": "markdown",
   "id": "69c30083",
   "metadata": {},
   "source": [
    "# Python program to find Fibonacci series up to n"
   ]
  },
  {
   "cell_type": "code",
   "execution_count": 15,
   "id": "26b8b793",
   "metadata": {},
   "outputs": [
    {
     "name": "stdout",
     "output_type": "stream",
     "text": [
      "Enter the Number:10\n",
      "Fibonacci Series: 0 1,1,2,3,5,8,13,21,34,\n"
     ]
    }
   ],
   "source": [
    "num = int(input(\"Enter the Number:\"))\n",
    "n1, n2 = 0, 1\n",
    "print(\"Fibonacci Series:\", n1, n2, end=\",\")\n",
    "for i in range(2, num):\n",
    "    n3 = n1 + n2\n",
    "    n1 = n2\n",
    "    n2 = n3\n",
    "    print(n3, end=\",\")\n",
    "\n",
    "print()"
   ]
  },
  {
   "cell_type": "markdown",
   "id": "7923bfcf",
   "metadata": {},
   "source": [
    "# Python Program to find the Factorial of a number"
   ]
  },
  {
   "cell_type": "code",
   "execution_count": 2,
   "id": "2ed419aa",
   "metadata": {},
   "outputs": [
    {
     "name": "stdout",
     "output_type": "stream",
     "text": [
      "Enter the factorial of the given number to find:4\n",
      "Factorial of the given number is 24\n"
     ]
    }
   ],
   "source": [
    "n=int(input('Enter the factorial of the given number to find:'))\n",
    "factorial=1\n",
    "for i in range(1,n+1):\n",
    "    factorial=factorial*i\n",
    "print('Factorial of the given number is',factorial)"
   ]
  },
  {
   "cell_type": "markdown",
   "id": "1838d3f4",
   "metadata": {},
   "source": [
    "# Python Program to find Power of a number"
   ]
  },
  {
   "cell_type": "code",
   "execution_count": 8,
   "id": "34aeade4",
   "metadata": {},
   "outputs": [
    {
     "name": "stdout",
     "output_type": "stream",
     "text": [
      "Enter Base Number:5\n",
      "Enter Expo Number:3\n",
      "Power of the given number is: 125\n"
     ]
    }
   ],
   "source": [
    "base=int(input('Enter Base Number:'))           #temp=temp*base\n",
    "expo=int(input('Enter Expo Number:'))           #temp=1*5=5\n",
    "temp=1                                          #temp=5*5=25\n",
    "for i in range(0,expo):                         #temp=25*5=125                \n",
    "    temp=temp*base                             \n",
    "print('Power of the given number is:',temp)"
   ]
  },
  {
   "cell_type": "markdown",
   "id": "7709aada",
   "metadata": {},
   "source": [
    "# Python program to find factors of a number"
   ]
  },
  {
   "cell_type": "code",
   "execution_count": 11,
   "id": "b0c068b2",
   "metadata": {},
   "outputs": [
    {
     "name": "stdout",
     "output_type": "stream",
     "text": [
      "Enter the value to find factors:10\n",
      "1 2 5 10 "
     ]
    }
   ],
   "source": [
    "n=int(input('Enter the value to find factors:'))\n",
    "for i in range(1,n+1):\n",
    "    if n%i==0:\n",
    "        print(i,end=' ')"
   ]
  },
  {
   "cell_type": "markdown",
   "id": "1879f002",
   "metadata": {},
   "source": [
    "# Python Program to find Perfect Number or Not"
   ]
  },
  {
   "cell_type": "code",
   "execution_count": 24,
   "id": "edcaddfc",
   "metadata": {},
   "outputs": [
    {
     "name": "stdout",
     "output_type": "stream",
     "text": [
      "Enter the value to find perfect number or not:496\n",
      "Perfect Number\n"
     ]
    }
   ],
   "source": [
    "n=int(input('Enter the value to find perfect number or not:'))\n",
    "sum=0\n",
    "for i in range(1,n):          #6,28,496,8128\n",
    "    if n%i==0:\n",
    "        sum=sum+i\n",
    "if sum==n:\n",
    "    print('Perfect Number')\n",
    "else:\n",
    "    print('Not a Perfect Number')"
   ]
  },
  {
   "cell_type": "markdown",
   "id": "383b0cde",
   "metadata": {},
   "source": [
    "# Automorphic number using Python"
   ]
  },
  {
   "cell_type": "code",
   "execution_count": 35,
   "id": "0467b057",
   "metadata": {},
   "outputs": [
    {
     "name": "stdout",
     "output_type": "stream",
     "text": [
      "Enter any number: 6\n",
      "Automorphic\n"
     ]
    }
   ],
   "source": [
    "n=int(input(\"Enter any number: \"))\n",
    "x=n**2\n",
    "a=str(n)\n",
    "b=str(x)\n",
    "y=len(a)        #5*5=2'5' #6*6=3'6'\n",
    "z=len(b)\n",
    "if(z-b.find(a)==y):\n",
    "      print(\"Automorphic\")\n",
    "else:\n",
    "      print(\"Not automorphic number\")"
   ]
  },
  {
   "cell_type": "markdown",
   "id": "4b806ce4",
   "metadata": {},
   "source": [
    "# Python Program to check Abundant Number"
   ]
  },
  {
   "cell_type": "code",
   "execution_count": 38,
   "id": "8fb225d2",
   "metadata": {},
   "outputs": [
    {
     "name": "stdout",
     "output_type": "stream",
     "text": [
      "Enter the number:\n",
      "None12\n",
      "12 is Abundant Number\n"
     ]
    }
   ],
   "source": [
    "n=int(input(print('Enter the number:')))\n",
    "\n",
    "sum=1 # 1 can divide any number \n",
    "\n",
    "for i in range(2,n):\n",
    "  if(n%i==0):    #if number is divisible by i add the number \n",
    "   sum=sum+i\n",
    "\n",
    "if(sum>n):\n",
    "  print(n,'is Abundant Number')\n",
    "\n",
    "else:\n",
    "  print(n,'is not Abundant Number')"
   ]
  },
  {
   "cell_type": "markdown",
   "id": "c3f605ae",
   "metadata": {},
   "source": [
    "# Python program to check whether two numbers are Friendly Pair"
   ]
  },
  {
   "cell_type": "code",
   "execution_count": 36,
   "id": "b9707ace",
   "metadata": {},
   "outputs": [
    {
     "name": "stdout",
     "output_type": "stream",
     "text": [
      "Enter first number: 220\n",
      "Enter second number: 284\n",
      "Friendly pair\n"
     ]
    }
   ],
   "source": [
    "#Get first input\n",
    "n=int(input(\"Enter first number: \"))\n",
    "\n",
    "#Get second input\n",
    "m=int(input(\"Enter second number: \"))\n",
    "\n",
    "#initilize sum of n divisor is equal 0 \n",
    "n_divisor=0\n",
    "\n",
    "#initilize sum of m divisor is equal 0 \n",
    "m_divisor=0\n",
    "\n",
    "#run for loop to check for all divisor of n and then increment sum of divisor\n",
    "for i in range(1,(n//2)+1):\n",
    "     if n%i==0:\n",
    "        n_divisor+=i\n",
    "\n",
    "#run for loop to check for all divisor of m and then increment sum of divisor\n",
    "for i in range(1,(m//2)+1):\n",
    "    if m%i==0:\n",
    "       m_divisor+=i\n",
    "\n",
    "#Check for friendly pair\n",
    "if m_divisor==n and n_divisor==m:\n",
    "     print(\"Friendly pair\")\n",
    "else:\n",
    "     print(\"Not friendly pair\")"
   ]
  },
  {
   "cell_type": "code",
   "execution_count": null,
   "id": "3f4bbbc8",
   "metadata": {},
   "outputs": [],
   "source": []
  }
 ],
 "metadata": {
  "kernelspec": {
   "display_name": "Python 3 (ipykernel)",
   "language": "python",
   "name": "python3"
  },
  "language_info": {
   "codemirror_mode": {
    "name": "ipython",
    "version": 3
   },
   "file_extension": ".py",
   "mimetype": "text/x-python",
   "name": "python",
   "nbconvert_exporter": "python",
   "pygments_lexer": "ipython3",
   "version": "3.9.7"
  }
 },
 "nbformat": 4,
 "nbformat_minor": 5
}
