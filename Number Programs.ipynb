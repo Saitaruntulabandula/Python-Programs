{
 "cells": [
  {
   "cell_type": "markdown",
   "id": "b30ce985",
   "metadata": {},
   "source": [
    "# Python Program for LCM Of Two Numbers"
   ]
  },
  {
   "cell_type": "code",
   "execution_count": 13,
   "id": "fd6476f7",
   "metadata": {},
   "outputs": [
    {
     "name": "stdout",
     "output_type": "stream",
     "text": [
      "Enter first number:4\n",
      "Enter Second Number:6\n",
      "LCM of two given number:12\n"
     ]
    }
   ],
   "source": [
    "a = int(input(\"Enter first number:\"))\n",
    "b = int(input(\"Enter Second Number:\")) #Tarun\n",
    "\n",
    "if a > b:\n",
    "    larger = a\n",
    "else:\n",
    "    larger = b\n",
    "while True:\n",
    "    if (larger % a == 0) and (larger % b == 0):\n",
    "        lcm = larger\n",
    "        break\n",
    "    larger = larger + 1\n",
    "print(\"LCM of two given number:{}\".format(lcm))"
   ]
  },
  {
   "cell_type": "markdown",
   "id": "f491ad5a",
   "metadata": {},
   "source": [
    "# Python program to find HCF of Two Numbers"
   ]
  },
  {
   "cell_type": "code",
   "execution_count": 16,
   "id": "5e00e62a",
   "metadata": {},
   "outputs": [
    {
     "name": "stdout",
     "output_type": "stream",
     "text": [
      "Enter first number:36\n",
      "Enter Second Number:60\n",
      "The HCF of given numbers: 12\n"
     ]
    }
   ],
   "source": [
    "a = int(input(\"Enter first number:\"))\n",
    "b = int(input(\"Enter Second Number:\"))\n",
    "arr = []\n",
    "if a > b:\n",
    "    smaller = b\n",
    "else:\n",
    "    smaller = a\n",
    "for i in range(1,smaller+1):\n",
    "    if (a % i == 0) and (b % i == 0):\n",
    "        arr.append(i)\n",
    "print(\"The HCF of given numbers: {}\".format(max(arr)))"
   ]
  },
  {
   "cell_type": "markdown",
   "id": "fde4b8d9",
   "metadata": {},
   "source": [
    "# Program to find GCD of Two Numbers"
   ]
  },
  {
   "cell_type": "code",
   "execution_count": 20,
   "id": "ca3f2377",
   "metadata": {},
   "outputs": [
    {
     "name": "stdout",
     "output_type": "stream",
     "text": [
      "Enter First Number:36\n",
      "Enter Second Number:40\n",
      "GCD of two Number: 4\n"
     ]
    }
   ],
   "source": [
    "a = int(input(\"Enter First Number:\"))\n",
    "b = int(input(\"Enter Second Number:\"))\n",
    "\n",
    "if a > b: \n",
    "    small = b\n",
    "else:\n",
    "    small = a\n",
    "for i in range(1, small+1):\n",
    "    if (a % i == 0) and (b % i == 0):\n",
    "        gcd = i\n",
    "print(\"GCD of two Number: {}\".format(gcd))"
   ]
  },
  {
   "cell_type": "markdown",
   "id": "f3a8438c",
   "metadata": {},
   "source": [
    "# Python Program for Addition of two fractions"
   ]
  },
  {
   "cell_type": "code",
   "execution_count": 21,
   "id": "43ecd5c0",
   "metadata": {},
   "outputs": [
    {
     "name": "stdout",
     "output_type": "stream",
     "text": [
      "Enter the numerator for 1st fraction :14\n",
      "Enter the denominator for the 1st fraction :10\n",
      "Enter the numerator for 2nd fraction :24\n",
      "Enter the denominator for the 2nd fraction :3\n",
      "Addition of fractions are :282/30\n"
     ]
    }
   ],
   "source": [
    "#take inputs\n",
    "f1_nume = int(input('Enter the numerator for 1st fraction :'))\n",
    "f1_deno = int(input('Enter the denominator for the 1st fraction :'))\n",
    "f2_nume = int(input('Enter the numerator for 2nd fraction :'))\n",
    "f2_deno = int(input('Enter the denominator for the 2nd fraction :'))\n",
    "#check if denominators are same\n",
    "if(f1_deno == f2_deno):\n",
    "    #add numerator\n",
    "    Fraction = f1_nume + f2_nume\n",
    "    #print\n",
    "    print('Addition of two fractions are :' + str(Fraction) + '/' + str(f1_deno))\n",
    "#if denominators are not same    \n",
    "else:\n",
    "    #to find the sum\n",
    "    #denominators should be same\n",
    "    #apply cross Multiplication\n",
    "    Fraction = (f1_nume * f2_deno) + (f2_nume * f1_deno)\n",
    "    print('Addition of fractions are :' + str(Fraction) + '/' + str(f1_deno * f2_deno))"
   ]
  },
  {
   "cell_type": "markdown",
   "id": "08f2488a",
   "metadata": {},
   "source": [
    "# Python Program to Replace all 0’s with 1 in a given integer"
   ]
  },
  {
   "cell_type": "code",
   "execution_count": 22,
   "id": "3a50ae79",
   "metadata": {},
   "outputs": [
    {
     "name": "stdout",
     "output_type": "stream",
     "text": [
      "12090\n",
      "12191\n"
     ]
    }
   ],
   "source": [
    "#taking Input\n",
    "\n",
    "n=int(input())\n",
    "\n",
    "#converting into string\n",
    "\n",
    "n=str(n) \n",
    "\n",
    "#then into the list\n",
    "\n",
    "n=list(n)\n",
    "\n",
    "r='' #empty string for addind it the item of list\n",
    "\n",
    "for i in range(len(n)):\n",
    "\n",
    "    #if we find '0' we will replace it with '1'\n",
    "\n",
    "    if(n[i]=='0'):\n",
    "\n",
    "        n[i]='1'\n",
    "\n",
    "    r=r + n[i]  #creating the new integer \n",
    "\n",
    "del n    \n",
    "\n",
    "print(int(r))"
   ]
  },
  {
   "cell_type": "code",
   "execution_count": 23,
   "id": "2804c874",
   "metadata": {},
   "outputs": [
    {
     "name": "stdout",
     "output_type": "stream",
     "text": [
      "Enter any number12090\n",
      "12191\n"
     ]
    }
   ],
   "source": [
    "n=int(input(\"Enter any number\"))\n",
    "\n",
    "s=str(n)\n",
    "\n",
    "l=[]\n",
    "\n",
    "for i in s:\n",
    "\n",
    "    if(i=='0'):\n",
    "\n",
    "        l.append('1')\n",
    "\n",
    "    else:\n",
    "\n",
    "        l.append(i)\n",
    "\n",
    "ns=\"\"\n",
    "\n",
    "for i in l:\n",
    "\n",
    "    ns+=i\n",
    "\n",
    "print(int(ns))"
   ]
  },
  {
   "cell_type": "markdown",
   "id": "03300cee",
   "metadata": {},
   "source": [
    "# Program to check if the given number is sum of two prime number in python"
   ]
  },
  {
   "cell_type": "code",
   "execution_count": 25,
   "id": "a492a277",
   "metadata": {},
   "outputs": [
    {
     "name": "stdout",
     "output_type": "stream",
     "text": [
      "Enter the Number :30\n",
      "7 and 23 are prime numbers when added gives 30\n",
      "11 and 19 are prime numbers when added gives 30\n",
      "13 and 17 are prime numbers when added gives 30\n"
     ]
    }
   ],
   "source": [
    "#take input\n",
    "Number = int(input('Enter the Number :'))\n",
    "#initialize an array\n",
    "arr = []\n",
    "#find prime numbers\n",
    "for i in range(2,Number):\n",
    "    flag = 0\n",
    "    for j in range(2,i):\n",
    "        if i % j == 0:\n",
    "            flag = 1\n",
    "    #append prime numbers to array\n",
    "    if flag == 0:\n",
    "        arr.append(i)\n",
    "#possible combinations\n",
    "flag = 0\n",
    "for i in range(len(arr)):\n",
    "    for j in range(i+1,len(arr)):\n",
    "        #if condition is True Print numbers\n",
    "        if(arr[i] + arr[j] == Number):\n",
    "            flag = 1\n",
    "            print(str(arr[i]) + \" and \" + str(arr[j]) + ' are prime numbers when added gives ' + str(Number))\n",
    "            break\n",
    "if(flag == 0):\n",
    "    print('No Prime numbers can give sum of ' + str(Number))"
   ]
  },
  {
   "cell_type": "markdown",
   "id": "ca478126",
   "metadata": {},
   "source": [
    "# Python Program for checking a character is a vowel or consonant"
   ]
  },
  {
   "cell_type": "code",
   "execution_count": 26,
   "id": "2300cb05",
   "metadata": {},
   "outputs": [
    {
     "name": "stdout",
     "output_type": "stream",
     "text": [
      "a\n",
      "Character is Vowel\n"
     ]
    }
   ],
   "source": [
    "#get user input\n",
    "Char =  input() \n",
    "#Check if the Char belong to set of Vowels\n",
    "if (Char == 'a' or Char == 'e' or Char == 'i' or Char == 'o' or Char == 'u'): \n",
    "    #if true \n",
    "    print(\"Character is Vowel\") \n",
    "else: \n",
    "    #if false\n",
    "    print(\"Character is Consonant\")"
   ]
  },
  {
   "cell_type": "markdown",
   "id": "db91b848",
   "metadata": {},
   "source": [
    "# Python program to check whether a character is an alphabet or not"
   ]
  },
  {
   "cell_type": "code",
   "execution_count": 27,
   "id": "3f96cf58",
   "metadata": {},
   "outputs": [
    {
     "name": "stdout",
     "output_type": "stream",
     "text": [
      "Z\n",
      "yes Z is an Alphabet\n"
     ]
    }
   ],
   "source": [
    "n=input() \n",
    "\n",
    "#ASCII value of the input \n",
    "\n",
    "x=ord(n)\n",
    "\n",
    "if(65<=x<=90 or 97<=x<=122):\n",
    "\n",
    "    print('yes' , n , 'is an Alphabet')\n",
    "\n",
    "else:\n",
    "\n",
    "    print('No' , n , 'is not an Alphabet')"
   ]
  },
  {
   "cell_type": "markdown",
   "id": "7ce8b874",
   "metadata": {},
   "source": [
    "# Calculating the area of circle using Python"
   ]
  },
  {
   "cell_type": "code",
   "execution_count": 28,
   "id": "c51a4494",
   "metadata": {},
   "outputs": [
    {
     "name": "stdout",
     "output_type": "stream",
     "text": [
      "Enter radius of circle :7\n",
      "The area of circle is 153.93804002589985\n"
     ]
    }
   ],
   "source": [
    "from math import pi\n",
    "\n",
    "r=float(input(\"Enter radius of circle :\"))\n",
    "\n",
    "area=pi*r*r\n",
    "\n",
    "print(\"The area of circle is\",end=\" \")\n",
    "\n",
    "print(area)"
   ]
  },
  {
   "cell_type": "code",
   "execution_count": 30,
   "id": "d768d423",
   "metadata": {},
   "outputs": [
    {
     "name": "stdout",
     "output_type": "stream",
     "text": [
      "Enter diameter of circle :14\n",
      "The area of circle is 153.93804002589985\n"
     ]
    }
   ],
   "source": [
    "from math import pi\n",
    "\n",
    "d=float(input(\"Enter diameter of circle :\"))\n",
    "\n",
    "area=(pi*d*d)/4\n",
    "\n",
    "print(\"The area of circle is \",end=\"\")\n",
    "\n",
    "print(area)"
   ]
  },
  {
   "cell_type": "markdown",
   "id": "c763bd09",
   "metadata": {},
   "source": [
    "# Python program to find ASCII values of a character"
   ]
  },
  {
   "cell_type": "code",
   "execution_count": 31,
   "id": "7ce22356",
   "metadata": {},
   "outputs": [
    {
     "name": "stdout",
     "output_type": "stream",
     "text": [
      "Enter the character :@\n",
      "64\n"
     ]
    }
   ],
   "source": [
    "#user input\n",
    "Char = input('Enter the character :')\n",
    "#convert Char to Ascii value\n",
    "Asciival = ord(Char)\n",
    "#print Value\n",
    "print(Asciival)"
   ]
  },
  {
   "cell_type": "markdown",
   "id": "da1631bf",
   "metadata": {},
   "source": [
    "# Python program to find Prime Numbers between 1 to100."
   ]
  },
  {
   "cell_type": "code",
   "execution_count": 32,
   "id": "9ea70840",
   "metadata": {},
   "outputs": [
    {
     "name": "stdout",
     "output_type": "stream",
     "text": [
      "Prime numbers between 1 to 100:\n",
      "2 3 5 7 11 13 17 19 23 29 31 37 41 43 47 53 59 61 67 71 73 79 83 89 97\n"
     ]
    }
   ],
   "source": [
    "#To find the prime numbers between 1 to 100 \n",
    "\n",
    "li=[] #list of prime numbers will be stored here \n",
    "\n",
    "for i in range(2,101):\n",
    "\n",
    "    f=0\n",
    "\n",
    "    for j in range(2,i+1):\n",
    "\n",
    "        if(i!=j and i%j==0): #if any n\n",
    "\n",
    "            f=1\n",
    "\n",
    "            break \n",
    "\n",
    "    if(f==0):\n",
    "\n",
    "        li.append(i)\n",
    "\n",
    "print('Prime numbers between 1 to 100:')\n",
    "\n",
    "print(*li,sep=' ')"
   ]
  },
  {
   "cell_type": "code",
   "execution_count": 33,
   "id": "78fe32c6",
   "metadata": {},
   "outputs": [
    {
     "name": "stdout",
     "output_type": "stream",
     "text": [
      "Prime numbers between 1 to 100:\n",
      "2 3 5 7 11 13 17 19 23 29 31 37 41 43 47 53 59 61 67 71 73 79 83 89 97 "
     ]
    }
   ],
   "source": [
    "#To find the prime numbers between 1 to 100 \n",
    "\n",
    "li=[True]*(101)  #list of prime numbers \n",
    "\n",
    "li[1]=False \n",
    "\n",
    "li[0]=False\n",
    "\n",
    "p=2 \n",
    "\n",
    "while(p*p<=101):\n",
    "\n",
    "    if(li[p]==True): #if it is a prime number then its multiples will be non-prime\n",
    "\n",
    "        for i in range(p*p,101,p):\n",
    "\n",
    "            li[i]=False \n",
    "\n",
    "    p=p+1\n",
    "\n",
    "print('Prime numbers between 1 to 100:')\n",
    "\n",
    "for i in range(2,101):\n",
    "\n",
    "    if(li[i]==True):\n",
    "\n",
    "        print(i, end=' ')"
   ]
  },
  {
   "cell_type": "markdown",
   "id": "7308b39a",
   "metadata": {},
   "source": [
    "# Python Program to calculate number of digits in an integer"
   ]
  },
  {
   "cell_type": "code",
   "execution_count": 34,
   "id": "1477bb0a",
   "metadata": {},
   "outputs": [
    {
     "name": "stdout",
     "output_type": "stream",
     "text": [
      "Enter an integer :154\n",
      "3\n"
     ]
    }
   ],
   "source": [
    "#get the user input\n",
    "Integer = int(input('Enter an integer :'))\n",
    "#initialize the variable\n",
    "#typecast the integer to string\n",
    "#store the string\n",
    "String = str(Integer)\n",
    "#use len() functiomn to find the length of a String\n",
    "#print it\n",
    "print(len(String))"
   ]
  },
  {
   "cell_type": "markdown",
   "id": "a8ceb54c",
   "metadata": {},
   "source": [
    "# Python program for Converting digit/number to words"
   ]
  },
  {
   "cell_type": "code",
   "execution_count": 36,
   "id": "23b3bc7a",
   "metadata": {},
   "outputs": [
    {
     "ename": "IndentationError",
     "evalue": "unindent does not match any outer indentation level (<tokenize>, line 23)",
     "output_type": "error",
     "traceback": [
      "\u001b[1;36m  File \u001b[1;32m\"<tokenize>\"\u001b[1;36m, line \u001b[1;32m23\u001b[0m\n\u001b[1;33m    else:\u001b[0m\n\u001b[1;37m    ^\u001b[0m\n\u001b[1;31mIndentationError\u001b[0m\u001b[1;31m:\u001b[0m unindent does not match any outer indentation level\n"
     ]
    }
   ],
   "source": [
    "def numToWords(num):\n",
    "    length_of_string = len(num);  \n",
    "    if (length_of_string == 0):\n",
    "        print(\"String is Empty\"); \n",
    "        return; \n",
    "    if (length_of_string > 4): \n",
    "        print(\"Please enter the string with supported length\"); \n",
    "        return;  \n",
    "    ones_digits = [\"zero\", \"one\", \"two\", \"three\", \"four\", \"five\", \"six\", \"seven\", \"eight\", \"nine\"]; \n",
    "    tens_digits = [\"\", \"ten\", \"eleven\", \"twelve\", \"thirteen\", \"fourteen\", \"fifteen\", \"sixteen\", \"seventeen\", \"eighteen\",\"nineteen\"]; \n",
    "    multiple_of_ten = [\"\", \"\", \"twenty\", \"thirty\", \"forty\", \"fifty\", \"sixty\", \"seventy\", \"eighty\", \"ninety\"]; \n",
    "    power_of_ten = [\"hundred\", \"thousand\"];   \n",
    "    print(num, \":\", end = \" \");\n",
    "    if (length_of_string == 1): \n",
    "        print(ones_digits[ord(num[0]) - '0']); \n",
    "        return;\n",
    "    x = 0; \n",
    "    while (x < len(num)): if (length_of_string >= 3): \n",
    "            if (ord(num[x]) - 48 != 0): \n",
    "                print(ones_digits[ord(num[x]) - 48], end = \" \"); \n",
    "                print(power_of_ten[length_of_string - 3], end = \" \");  \n",
    "            length_of_string -= 1; \n",
    "        else: \n",
    "            if (ord(num[x]) - 48 == 1):  \n",
    "                sum = (ord(num[x]) - 48 + ord(num[x]) - 48); \n",
    "                print(tens_digits[sum]); \n",
    "                return;\n",
    "            elif (ord(num[x]) - 48 == 2 and ord(num[x + 1]) - 48 == 0): \n",
    "                print(\"twenty\"); \n",
    "                return; \n",
    "            else: \n",
    "                i = ord(num[x]) - 48; \n",
    "                if(i > 0): \n",
    "                    print(multiple_of_ten[i], end = \" \"); \n",
    "                else: \n",
    "                    print(\"\", end = \"\"); \n",
    "                x += 1; \n",
    "                if(ord(num[x]) - 48 != 0): \n",
    "                    print(ones_digits[ord(num[x]) - 48]); \n",
    "        x += 1; \n",
    "numToWords(\"1121\")"
   ]
  },
  {
   "cell_type": "markdown",
   "id": "1a6a3e98",
   "metadata": {},
   "source": [
    "# Python Program to count the number of days in a given month of a year"
   ]
  },
  {
   "cell_type": "code",
   "execution_count": 37,
   "id": "0f0f27a5",
   "metadata": {},
   "outputs": [
    {
     "name": "stdout",
     "output_type": "stream",
     "text": [
      "Enter the Month :2\n",
      "Enter the Year :2022\n",
      "Number of days is 28\n"
     ]
    }
   ],
   "source": [
    "#take user inputs for Month and year in integer\n",
    "Month = int(input('Enter the Month :'))\n",
    "Year = int(input('Enter the Year :'))\n",
    "#Check condition for Month and leap year\n",
    "if(Month == 2 and (Year%400 == 0) or ((Year%100 != 0) and (Year%4 == 0))):\n",
    "    #if condition is TRUE\n",
    "    print('Number of days is 29')\n",
    "#if False check for other conditions\n",
    "elif(Month == 2):\n",
    "    print('Number of days is 28')\n",
    "elif(Month == 1 or Month == 3 or Month == 5 or Month == 7 or Month == 8 or Month == 10 or Month == 12):\n",
    "    print('Number of days is 31')\n",
    "else:\n",
    "    print('Number of days is 30')"
   ]
  },
  {
   "cell_type": "markdown",
   "id": "fbd87be7",
   "metadata": {},
   "source": [
    "# Python program to count number of times x digit occurs in each and every number from 0 to n"
   ]
  },
  {
   "cell_type": "code",
   "execution_count": 40,
   "id": "4ee10d76",
   "metadata": {},
   "outputs": [
    {
     "name": "stdout",
     "output_type": "stream",
     "text": [
      "Enter the Number :897982\n",
      "Enter the digit :7\n",
      "Digit count is : 1\n"
     ]
    }
   ],
   "source": [
    "#take user inputs\n",
    "Number = int(input('Enter the Number :'))\n",
    "Digit = (int(input('Enter the digit :')))\n",
    "#initialize Strings\n",
    "String1 = str()\n",
    "String2 = str()\n",
    "#typecast int to str\n",
    "String1 = str(Number)\n",
    "String2 = str(Digit)\n",
    "#count and print the occurrence\n",
    "#Count function will return int value \n",
    "#so change it's type to string and concatenate it\n",
    "print('Digit count is :',str(String1.count(String2)))"
   ]
  },
  {
   "cell_type": "markdown",
   "id": "4530cd0b",
   "metadata": {},
   "source": [
    "# Python program to find number of integers which has exactly x divisors"
   ]
  },
  {
   "cell_type": "code",
   "execution_count": 42,
   "id": "dca0f1ca",
   "metadata": {},
   "outputs": [
    {
     "name": "stdout",
     "output_type": "stream",
     "text": [
      "Enter range of number :30\n",
      "Enter exact number of divisors :3\n",
      "4 9 25 \n",
      "3\n"
     ]
    }
   ],
   "source": [
    "#user inputs\n",
    "Number = int(input('Enter range of number :'))\n",
    "Divisor = int(input('Enter exact number of divisors :'))\n",
    "#count1 is to count total number of Numbers with exact divisor\n",
    "count1 = 0\n",
    "#driver loop\n",
    "for i in range(1,Number+1):\n",
    "    #count2 checks the total number of divisors\n",
    "    count2 = 0\n",
    "    #loop to find number of divisors\n",
    "    for j in range(1,i+1):\n",
    "        if i % j == 0:\n",
    "            count2+=1\n",
    "        else:\n",
    "            pass\n",
    "    if count2 == Divisor:\n",
    "        count1+=1\n",
    "        #end = \" \" is used so it can print Numbers in same line\n",
    "        print(i,end = \" \")\n",
    "#for break in line between Numbers and total count\n",
    "print('')\n",
    "print(count1)"
   ]
  },
  {
   "cell_type": "markdown",
   "id": "0b6dfd98",
   "metadata": {},
   "source": [
    "# Python program to find roots of a quadratic equation"
   ]
  },
  {
   "cell_type": "code",
   "execution_count": 43,
   "id": "1420e8ed",
   "metadata": {},
   "outputs": [
    {
     "name": "stdout",
     "output_type": "stream",
     "text": [
      "Enter value of a :1\n",
      "Enter value of b :-7\n",
      "Enter value of c :12\n",
      "Two Real Roots\n",
      "4.0\n",
      "3.0\n"
     ]
    }
   ],
   "source": [
    "#import math library\n",
    "import math\n",
    "#take user inputs\n",
    "a = int(input('Enter value of a :'))\n",
    "b = int(input('Enter value of b :'))\n",
    "c = int(input('Enter value of c :'))\n",
    "#check for value of a\n",
    "if a == 0: \n",
    "    print(\"a cannot be zero\") \n",
    "#if a is greater than 0\n",
    "else:\n",
    "    #calculate value of Function\n",
    "    val = b**2 - 4 * a * c \n",
    "    root = math.sqrt(abs(val)) \n",
    "    #Check for roots and print according to their nature\n",
    "    if val > 0: \n",
    "        print(\"Two Real Roots\") \n",
    "        print((-b + root)/(2 * a)) \n",
    "        print((-b - root)/(2 * a)) \n",
    "    elif val == 0: \n",
    "        print(\"One Real Root\") \n",
    "        print(-b / (2*a)) \n",
    "    else: \n",
    "        print(\"No Real Root\") \n",
    "        print(- b / (2*a) , \" + i\", root) \n",
    "        print(- b / (2*a) , \" - i\", root)"
   ]
  },
  {
   "cell_type": "code",
   "execution_count": null,
   "id": "7b2fdbd4",
   "metadata": {},
   "outputs": [],
   "source": []
  }
 ],
 "metadata": {
  "kernelspec": {
   "display_name": "Python 3 (ipykernel)",
   "language": "python",
   "name": "python3"
  },
  "language_info": {
   "codemirror_mode": {
    "name": "ipython",
    "version": 3
   },
   "file_extension": ".py",
   "mimetype": "text/x-python",
   "name": "python",
   "nbconvert_exporter": "python",
   "pygments_lexer": "ipython3",
   "version": "3.9.7"
  }
 },
 "nbformat": 4,
 "nbformat_minor": 5
}
