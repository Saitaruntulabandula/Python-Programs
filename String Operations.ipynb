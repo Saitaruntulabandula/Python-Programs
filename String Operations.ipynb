{
 "cells": [
  {
   "cell_type": "markdown",
   "id": "2ebf177d",
   "metadata": {},
   "source": [
    "# Python program for calculating the length of string without using length() function"
   ]
  },
  {
   "cell_type": "code",
   "execution_count": 2,
   "id": "7a90800b",
   "metadata": {},
   "outputs": [
    {
     "name": "stdout",
     "output_type": "stream",
     "text": [
      "Enter the string to find count of it:saitarun tulabandula\n",
      "20\n"
     ]
    }
   ],
   "source": [
    "string=input('Enter the string to find count of it:')\n",
    "count=0\n",
    "for i in string:\n",
    "    count+=1\n",
    "print(count)"
   ]
  },
  {
   "cell_type": "markdown",
   "id": "19557de4",
   "metadata": {},
   "source": [
    "# Python program to toggle each character in a string"
   ]
  },
  {
   "cell_type": "code",
   "execution_count": 7,
   "id": "b7d91bf9",
   "metadata": {},
   "outputs": [
    {
     "name": "stdout",
     "output_type": "stream",
     "text": [
      "Enter the string:sAI tARUN\n",
      "Sai Tarun\n"
     ]
    }
   ],
   "source": [
    "#If the string is in uppercase then we will be converting this in lowercase and lowercase in uppercase.\n",
    "String=input('Enter the string:')\n",
    "String1=str()\n",
    "for i in String:\n",
    "             if i.isupper():\n",
    "                 i=i.lower()\n",
    "                 String1=String1+i\n",
    "             else:\n",
    "                 i=i.upper()\n",
    "                 String1=String1+i\n",
    "print(String1)"
   ]
  },
  {
   "cell_type": "markdown",
   "id": "5c36d299",
   "metadata": {},
   "source": [
    "# Python program to count the number of vowels in a string"
   ]
  },
  {
   "cell_type": "code",
   "execution_count": 15,
   "id": "2c1da0c5",
   "metadata": {},
   "outputs": [
    {
     "name": "stdout",
     "output_type": "stream",
     "text": [
      "Enter the String:saitaruntulabandula\n",
      "Number of Vowels 9\n"
     ]
    }
   ],
   "source": [
    "String=input('Enter the String:')\n",
    "String=String.lower()\n",
    "count=0\n",
    "for i in String:\n",
    "    if i=='a' or i=='e' or i=='i' or i=='o' or i=='u':\n",
    "        count=count+1\n",
    "if count==0:\n",
    "    print('No Vowels Found')\n",
    "else:\n",
    "    print('Number of Vowels',count)"
   ]
  },
  {
   "cell_type": "markdown",
   "id": "8c802476",
   "metadata": {},
   "source": [
    "# Python program to remove the vowels from a string"
   ]
  },
  {
   "cell_type": "code",
   "execution_count": 21,
   "id": "f0bc37d1",
   "metadata": {},
   "outputs": [
    {
     "name": "stdout",
     "output_type": "stream",
     "text": [
      "Enter the String:saitaruntulabandula\n",
      "String after removing vowels: strntlbndl\n"
     ]
    }
   ],
   "source": [
    "String=input('Enter the String:')\n",
    "String1=str()\n",
    "String=String.lower()\n",
    "for i in String:\n",
    "    if i=='a' or i=='e' or i=='i' or i=='o' or i=='u':\n",
    "        pass\n",
    "    else:\n",
    "        String1=String1+i\n",
    "print('String after removing vowels:',String1)"
   ]
  },
  {
   "cell_type": "markdown",
   "id": "554f311a",
   "metadata": {},
   "source": [
    "# Python program to check if the given string is palindrome or not"
   ]
  },
  {
   "cell_type": "code",
   "execution_count": 23,
   "id": "263bc3a6",
   "metadata": {},
   "outputs": [
    {
     "name": "stdout",
     "output_type": "stream",
     "text": [
      "Enter the String:Tarun\n",
      "Not a Palindrome\n"
     ]
    }
   ],
   "source": [
    "String=input('Enter the String:')\n",
    "String2=String[::-1]\n",
    "if String==String2:\n",
    "    print('Palindrome')\n",
    "else:\n",
    "    print('Not a Palindrome')"
   ]
  },
  {
   "cell_type": "markdown",
   "id": "abdbcc58",
   "metadata": {},
   "source": [
    "# Program to Reverse a String in Python"
   ]
  },
  {
   "cell_type": "markdown",
   "id": "e311b4eb",
   "metadata": {},
   "source": [
    "The slicing function accepts three variables in the format\n",
    "\n",
    "[start:stop:step]\n",
    "The start holds the starting index of the string, the stop holds the last-1 element’s index, step holds the value of the number of steps while iteration.\n",
    "\n",
    "In the code, string[::-1], when we pass -1 as the step and the empty start and end take 0 and len(string)-1 by default. This reverses the string with step 1 in the reverse direction."
   ]
  },
  {
   "cell_type": "code",
   "execution_count": 32,
   "id": "4cdcf9c7",
   "metadata": {},
   "outputs": [
    {
     "name": "stdout",
     "output_type": "stream",
     "text": [
      "Enter the String:Tarun\n",
      "nuraT\n"
     ]
    }
   ],
   "source": [
    "String=input('Enter the String:')\n",
    "print(String[::-1])"
   ]
  },
  {
   "cell_type": "code",
   "execution_count": 31,
   "id": "845e86ec",
   "metadata": {},
   "outputs": [
    {
     "name": "stdout",
     "output_type": "stream",
     "text": [
      "Enter the String:Tarun\n",
      "nuraT\n"
     ]
    }
   ],
   "source": [
    "#Reversing a String using reversed() function\n",
    "String=input('Enter the String:')\n",
    "print(''.join(list(reversed(String))))"
   ]
  },
  {
   "cell_type": "code",
   "execution_count": 34,
   "id": "55cffd32",
   "metadata": {},
   "outputs": [
    {
     "name": "stdout",
     "output_type": "stream",
     "text": [
      "Enter the String:Tarun\n",
      "nuraT\n"
     ]
    }
   ],
   "source": [
    "#Reversing a string using brute force approach\n",
    "#using brute force:\n",
    "string = input('Enter the String:')\n",
    "output = ''\n",
    "for i in range(len(string)-1,1,-1):\n",
    "  output+=string[i]\n",
    "output+=string[i-1]\n",
    "output+=string[i-2]\n",
    "print(output)"
   ]
  },
  {
   "cell_type": "markdown",
   "id": "2fcb4a96",
   "metadata": {},
   "source": [
    "# Python program to remove all character from string except alphabets"
   ]
  },
  {
   "cell_type": "code",
   "execution_count": 48,
   "id": "1976ffa0",
   "metadata": {},
   "outputs": [
    {
     "name": "stdout",
     "output_type": "stream",
     "text": [
      "Enter the String:#Justice!For@Chutki123\n",
      "JusticeForChutki\n"
     ]
    }
   ],
   "source": [
    "String=input('Enter the String:')\n",
    "String1=''\n",
    "for i in String:\n",
    "    if(ord(i)>=65 and ord(i)<=90) or (ord(i)>=97 and ord(i)<=122):\n",
    "        String1=String1+i\n",
    "print(String1)\n",
    "#print(ord('A')) #65\n",
    "#print(ord('Z')) #90\n",
    "#print(ord('a')) #97\n",
    "#print(ord('z')) #122"
   ]
  },
  {
   "cell_type": "markdown",
   "id": "0a61c5ed",
   "metadata": {},
   "source": [
    "# Python program to remove spaces from a string"
   ]
  },
  {
   "cell_type": "code",
   "execution_count": 50,
   "id": "644b9581",
   "metadata": {},
   "outputs": [
    {
     "name": "stdout",
     "output_type": "stream",
     "text": [
      "Enter the String:Sai Tarun\n",
      "String after removing the Spaces: SaiTarun\n"
     ]
    }
   ],
   "source": [
    "String=input('Enter the String:')\n",
    "String=''.join(String.split())\n",
    "print('String after removing the Spaces:',String)"
   ]
  },
  {
   "cell_type": "code",
   "execution_count": 52,
   "id": "0e7ab51c",
   "metadata": {},
   "outputs": [
    {
     "name": "stdout",
     "output_type": "stream",
     "text": [
      "Enter the String:Sai Tarun Tulabandula\n",
      "SaiTarunTulabandula\n"
     ]
    }
   ],
   "source": [
    "String=input('Enter the String:')\n",
    "Count=String.count(\" \")\n",
    "for i in range(Count):\n",
    "    String=String.replace(' ',\"\")\n",
    "print(String)"
   ]
  },
  {
   "cell_type": "markdown",
   "id": "ec46cca1",
   "metadata": {},
   "source": [
    "# Python program to remove brackets from an expression"
   ]
  },
  {
   "cell_type": "code",
   "execution_count": 55,
   "id": "4fbae7b4",
   "metadata": {},
   "outputs": [
    {
     "name": "stdout",
     "output_type": "stream",
     "text": [
      "Enter an algebraic equation :(a-b)+[c*d]+{e/f}\n",
      " String without bracket is a-b+c*d+e/f\n"
     ]
    }
   ],
   "source": [
    "String = input('Enter an algebraic equation :')\n",
    "String1 = ''\n",
    "for i in String:\n",
    "    if ord(i) == 41 or ord(i) == 40 or ord(i) == 91 or ord(i) == 93 or ord(i) == 123 or ord(i) == 125:\n",
    "        pass\n",
    "    else:\n",
    "        String1 = String1 + i\n",
    "print(' String without bracket is ' + String1)\n",
    "#print(ord('(')) #41\n",
    "#print(ord(')')) #40\n",
    "#print(ord('[')) #91\n",
    "#print(ord(']')) #93\n",
    "#print(ord('{')) #123\n",
    "#print(ord('}')) #125"
   ]
  },
  {
   "cell_type": "markdown",
   "id": "dc28a8d2",
   "metadata": {},
   "source": [
    "# Python program to count the sum of numbers in a string"
   ]
  },
  {
   "cell_type": "code",
   "execution_count": 65,
   "id": "36f0cf4e",
   "metadata": {},
   "outputs": [
    {
     "name": "stdout",
     "output_type": "stream",
     "text": [
      "Enter the String:Ta4r1n\n",
      "Sum is: 5\n"
     ]
    }
   ],
   "source": [
    "String=input('Enter the String:')\n",
    "Sum = 0\n",
    "for i in String:\n",
    "    if ord(i) >= 48 and ord(i) <= 57:\n",
    "        #convert it to integer and add\n",
    "        Sum = Sum + int(i)\n",
    "print('Sum is:',Sum)\n",
    "#print(ord('0')) #48\n",
    "#print(ord('9')) #57"
   ]
  },
  {
   "cell_type": "markdown",
   "id": "5592e635",
   "metadata": {},
   "source": [
    "# Python program to capitalize the first and last letter of each word of a string"
   ]
  },
  {
   "cell_type": "code",
   "execution_count": 66,
   "id": "44a7819c",
   "metadata": {},
   "outputs": [
    {
     "name": "stdout",
     "output_type": "stream",
     "text": [
      "Enter the String:bhindimaster\n",
      "BhindimasteR\n"
     ]
    }
   ],
   "source": [
    "String=input('Enter the String:')\n",
    "String = String[0:1].upper() + String[1:len(String)-1] + String[len(String)-1:len(String)].upper()\n",
    "print(String)"
   ]
  },
  {
   "cell_type": "markdown",
   "id": "4c4a8fb7",
   "metadata": {},
   "source": [
    "# Python program to calculate frequency of a characters in a string"
   ]
  },
  {
   "cell_type": "code",
   "execution_count": 67,
   "id": "ce735733",
   "metadata": {},
   "outputs": [
    {
     "name": "stdout",
     "output_type": "stream",
     "text": [
      "Enter the String:saitaruntulabandula\n",
      "Enter the Character:a\n",
      "Count of the given charcter: 5\n"
     ]
    }
   ],
   "source": [
    "String=input('Enter the String:')\n",
    "Character=input('Enter the Character:')\n",
    "Frequency = 0\n",
    "Frequency = String.count(Character)\n",
    "print('Count of the given charcter:',Frequency)"
   ]
  },
  {
   "cell_type": "markdown",
   "id": "c2c86520",
   "metadata": {},
   "source": [
    "# Python program to find non repeating characters in a string"
   ]
  },
  {
   "cell_type": "code",
   "execution_count": 68,
   "id": "a2c45d4a",
   "metadata": {},
   "outputs": [
    {
     "name": "stdout",
     "output_type": "stream",
     "text": [
      "Enter the string :saitaruntulabandula\n",
      "s i r b d "
     ]
    }
   ],
   "source": [
    "String = input('Enter the string :')\n",
    "for i in String:\n",
    "    #initialize a count variable\n",
    "    count = 0\n",
    "    for j in String:\n",
    "        #check for repeated characters\n",
    "        if i == j:\n",
    "            count+=1\n",
    "        #if character is found more than 1 time\n",
    "        #break the loop\n",
    "        if count > 1:\n",
    "            break\n",
    "    #print for nonrepeating characters\n",
    "    if count == 1:\n",
    "        print(i,end = \" \")"
   ]
  },
  {
   "cell_type": "markdown",
   "id": "8713d7d4",
   "metadata": {},
   "source": [
    "# Python program to check if two Strings are Anagram or not"
   ]
  },
  {
   "cell_type": "code",
   "execution_count": 69,
   "id": "0cdeb35d",
   "metadata": {},
   "outputs": [
    {
     "name": "stdout",
     "output_type": "stream",
     "text": [
      "Enter the 1st string :justiceforchutki\n",
      "Enter the 2nd string :jfucoshtriuctiek\n",
      "Strings are anagram\n"
     ]
    }
   ],
   "source": [
    "#Strings are said to be anagrams only if all the characters present in 1st string are also present in 2nd string \n",
    "#and no single characters should be more or less. \n",
    "String = input('Enter the 1st string :')\n",
    "String1 = input('Enter the 2nd string :')\n",
    "#check if length matches\n",
    "if len(String) != len(String1):\n",
    "    #if False\n",
    "    print('Strings are not anagram')\n",
    "else:\n",
    "    #sorted function sort string by characters\n",
    "    String = sorted(String)\n",
    "    String1 = sorted(String1)\n",
    "    #check if now strings matches\n",
    "    if String == String1:\n",
    "        #if True\n",
    "        print('Strings are anagram')  #justiceforchutki\n",
    "    else:\n",
    "         print('Strings are not anagram') #jfucoshtriuctiek"
   ]
  },
  {
   "cell_type": "markdown",
   "id": "5bd7c121",
   "metadata": {},
   "source": [
    "# Python program to replace a substring in a string"
   ]
  },
  {
   "cell_type": "code",
   "execution_count": 71,
   "id": "e9c211ce",
   "metadata": {},
   "outputs": [
    {
     "name": "stdout",
     "output_type": "stream",
     "text": [
      "Enter String :\n",
      "Sai Tarun\n",
      "Enter substring which has to be replaced :\n",
      "Tarun\n",
      "Enter substring with which str1 has to be replaced :\n",
      "Tharun\n",
      "String after replacement\n",
      "Sai Tharun\n"
     ]
    }
   ],
   "source": [
    "string=input('Enter String :\\n')\n",
    "string1=input('Enter substring which has to be replaced :\\n')\n",
    "string2=input('Enter substring with which str1 has to be replaced :\\n')\n",
    "string=string.replace(string1,string2)\n",
    "print('String after replacement')\n",
    "print(string)"
   ]
  },
  {
   "cell_type": "markdown",
   "id": "955cb0b5",
   "metadata": {},
   "source": [
    "# Python program to Count Common Subsequence in two Strings"
   ]
  },
  {
   "cell_type": "code",
   "execution_count": 73,
   "id": "2fe785e1",
   "metadata": {},
   "outputs": [
    {
     "name": "stdout",
     "output_type": "stream",
     "text": [
      "ABC\n",
      "AB\n",
      "3\n"
     ]
    }
   ],
   "source": [
    "n=input()\n",
    "m=input()\n",
    "l1,l2=len(n),len(m)\n",
    "cnt=[[0 for i in range(l2+1)] for i in range(l1+1)]\n",
    "for i in range(1,l1+1):\n",
    "    for j in range(1,l2+1):\n",
    "         if(n[i-1] == m[j-1]):\n",
    "             cnt[i][j] = 1 + cnt[i][j-1] + cnt[i-1][j]\n",
    "         else:\n",
    "             cnt[i][j] = cnt[i][j-1] + cnt[i-1][j] - cnt[i-1][j-1]\n",
    "         \n",
    "print(cnt[l1][l2])      #common subsequence in “ABC” and “AB” is “A” , “B”, “AB”"
   ]
  },
  {
   "cell_type": "markdown",
   "id": "6a5a85f9",
   "metadata": {},
   "source": [
    "# Python program to check if two strings match where one string contains wildcard characters"
   ]
  },
  {
   "cell_type": "code",
   "execution_count": 77,
   "id": "d6c38599",
   "metadata": {},
   "outputs": [
    {
     "name": "stdout",
     "output_type": "stream",
     "text": [
      "Enter string containing wild characters:\n",
      "prep*nsta\n",
      "Enter string to be matched:\n",
      "prepinsta\n",
      "True\n"
     ]
    }
   ],
   "source": [
    "def solve(a,b):\n",
    "    n,m=len(a),len(b)\n",
    "    if n==0 and m==0:\n",
    "        return True\n",
    "    if n > 1 and a[0] == '*' and m == 0:\n",
    "        return False\n",
    "    if (n > 1 and a[0] == '?') or (n != 0 and m !=0 and a[0] == b[0]):\n",
    "        return solve(a[1:],b[1:]);\n",
    "    if n !=0 and a[0] == '*':\n",
    "        return solve(a[1:],b) or solve(a,b[1:])\n",
    "    return False\n",
    "\n",
    "str1=input('Enter string containing wild characters:\\n')\n",
    "str2=input('Enter string to be matched:\\n')\n",
    "print(solve(str1,str2)) #prep*nsta #prepinsta"
   ]
  },
  {
   "cell_type": "code",
   "execution_count": null,
   "id": "494e3a50",
   "metadata": {},
   "outputs": [],
   "source": []
  }
 ],
 "metadata": {
  "kernelspec": {
   "display_name": "Python 3 (ipykernel)",
   "language": "python",
   "name": "python3"
  },
  "language_info": {
   "codemirror_mode": {
    "name": "ipython",
    "version": 3
   },
   "file_extension": ".py",
   "mimetype": "text/x-python",
   "name": "python",
   "nbconvert_exporter": "python",
   "pygments_lexer": "ipython3",
   "version": "3.9.7"
  }
 },
 "nbformat": 4,
 "nbformat_minor": 5
}
